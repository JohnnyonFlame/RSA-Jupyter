{
 "cells": [
  {
   "cell_type": "code",
   "execution_count": 1,
   "metadata": {},
   "outputs": [],
   "source": [
    "# Algumas Definições e Funções de Suporte\n",
    "import random, math, fractions, sys, cProfile, pstats, os\n",
    "from IPython.display import display, Markdown\n",
    "\n",
    "def print_primes(p, q):\n",
    "    display(Markdown(\"\"\"\n",
    "# Números primos gerados\n",
    "| variável | número primo |\n",
    "|---|-----|\n",
    "| p | {p} |\n",
    "| q | {q} |\n",
    "    \"\"\".format(p = p, q = q)))\n",
    "\n",
    "def print_keys(e, n, d):\n",
    "    display(Markdown(\"\"\"\n",
    "# Chaves geradas\n",
    "--------------------------------\n",
    "| Tipo de Chave | Chave Gerada |\n",
    "|---------------|--------------|\n",
    "| Pública       | {e}          |\n",
    "| Compartilhada | {n}          |\n",
    "| Privada       | {d}          |\n",
    "--------------------------------\n",
    "    \"\"\".format(e=e, n=n, d=d)))\n",
    "    \n",
    "def print_euctab(tab):\n",
    "    str = \"\"\"\n",
    "# Passos do Algoritmo Extendido de Euclides\n",
    "---------------------------------------------------------------------\n",
    "| Dividendo | Divisor | Quociente | Resto Anterior | Novo Resto | t |\n",
    "|:---------:|:-------:|:---------:|:--------------:|:----------:|:-:|\n",
    "    \"\"\"\n",
    "\n",
    "    for i in range(len(tab)):\n",
    "        str += \"|{a}|{b}|{c}|{d}|{e}|{f}|\".format(a = tab[i][0], b = tab[i][1], c = tab[i][2], d = tab[i][3], e = tab[i][4], f = tab[i][5]) + os.linesep\n",
    "    str += \"\"\"\n",
    "-----------------------------------------------------------------\n",
    "    \"\"\"\n",
    "    display(Markdown(str))\n",
    "\n",
    "def print_sec(enc, dec):\n",
    "    str = \"\"\"\n",
    "# Resultados da Encriptação e Decriptação\n",
    "---------------------------\n",
    "| Encriptado | Decriptado |\n",
    "|------------|------------|\n",
    "    \"\"\"\n",
    "    \n",
    "    for i in range(len(enc)):\n",
    "        str += \"| {a} | {b} |\".format(a = enc[i], b = dec[i]) + os.linesep\n",
    "    str += \"\"\"\n",
    "---------------------------    \n",
    "    \"\"\"\n",
    "    display(Markdown(str))     "
   ]
  },
  {
   "cell_type": "code",
   "execution_count": 2,
   "metadata": {},
   "outputs": [
    {
     "data": {
      "text/markdown": [
       "# Primeiros 19 pequenos primos gerados:"
      ],
      "text/plain": [
       "<IPython.core.display.Markdown object>"
      ]
     },
     "metadata": {},
     "output_type": "display_data"
    },
    {
     "data": {
      "text/plain": [
       "[2, 3, 5, 7, 11, 13, 17, 19, 23, 29, 31, 37, 41, 43, 47, 53, 59, 61, 67]"
      ]
     },
     "metadata": {},
     "output_type": "display_data"
    },
    {
     "data": {
      "text/markdown": [
       "# Ultimos 11 pequenos primos gerados"
      ],
      "text/plain": [
       "<IPython.core.display.Markdown object>"
      ]
     },
     "metadata": {},
     "output_type": "display_data"
    },
    {
     "data": {
      "text/plain": [
       "[99871, 99877, 99881, 99901, 99907, 99923, 99929, 99961, 99971, 99989, 99991]"
      ]
     },
     "metadata": {},
     "output_type": "display_data"
    }
   ],
   "source": [
    "# Peneira de Eratóstenes:\n",
    "# https://en.wikipedia.org/wiki/Sieve_of_Eratosthenes\n",
    "def generate_small_primes(max_prime):\n",
    "    sieve = [True for i in range(0, max_prime)]\n",
    "    for i in range(2, int(math.sqrt(max_prime))):\n",
    "        if sieve[i]:\n",
    "            for j in range(i**2, max_prime, i):\n",
    "                if (j < max_prime):\n",
    "                    sieve[j] = False\n",
    "\n",
    "    return [i for i in range(2, max_prime) if sieve[i]]\n",
    "\n",
    "prime_cache = generate_small_primes(100000)\n",
    "display(Markdown(\"# Primeiros 19 pequenos primos gerados:\"))\n",
    "display([prime_cache[i] for i in range(19)])\n",
    "display(Markdown(\"# Ultimos 11 pequenos primos gerados\"))\n",
    "display([prime_cache[i] for i in range(len(prime_cache) - 11, len(prime_cache))])"
   ]
  },
  {
   "cell_type": "code",
   "execution_count": 3,
   "metadata": {},
   "outputs": [],
   "source": [
    "# Teste de Primalidade de Fermat:\n",
    "# https://en.wikipedia.org/wiki/Fermat_primality_test\n",
    "def is_prime_fermat(number):\n",
    "    for i in range(0, 3):\n",
    "        a = random.randint(2, number-2)\n",
    "        if pow(a, number-1, number) != 1:\n",
    "            return False\n",
    "    return True"
   ]
  },
  {
   "cell_type": "code",
   "execution_count": 4,
   "metadata": {},
   "outputs": [],
   "source": [
    "# Teste de forte pseudo-primalidade de Miller-Rabin\n",
    "# https://en.wikipedia.org/wiki/Miller%E2%80%93Rabin_primality_test\n",
    "# Handbook of Applied Cryptography, seção 4.2.3 (http://cacr.uwaterloo.ca/hac/)\n",
    "def is_prime_millerrabin(number, tries):    \n",
    "    # Encontra n-1 = d = 2**s * r tal que r é impar\n",
    "    s = 0\n",
    "    d = number - 1\n",
    "    while d % 2 == 0:\n",
    "        d >>= 1\n",
    "        s += 1\n",
    "\n",
    "    # Realiza 'tries' tentativas, testando as testemunhas de\n",
    "    # multiplicidade do numero\n",
    "    for i in range(tries):\n",
    "        a = random.randrange(2, number - 1)\n",
    "        if not check_witness(a, s, d, number):\n",
    "            return False\n",
    "\n",
    "    return True\n",
    "\n",
    "# Testa as 'testemunhas' de multiplicidade\n",
    "# Testemunhas podem determinar se o numero é composto ou dizer nada\n",
    "def check_witness(a, s, d, number):\n",
    "    x = pow(a, d, number)\n",
    "    if x == 1:\n",
    "        return True\n",
    "    for i in range(s - 1):\n",
    "        if x == number - 1:\n",
    "            return True\n",
    "        x = pow(x, 2, number)\n",
    "    return x == number - 1"
   ]
  },
  {
   "cell_type": "code",
   "execution_count": 5,
   "metadata": {},
   "outputs": [],
   "source": [
    "# Cadeia de testes de primalidade, por ordem de velocidade execução\n",
    "def is_prime(number):\n",
    "    if number in prime_cache:\n",
    "        return True\n",
    "    for p in prime_cache:\n",
    "        if ((number % p) == 0):\n",
    "            return False\n",
    "    if not is_prime_fermat(number):\n",
    "        return False\n",
    "\n",
    "    return is_prime_millerrabin(number, 5)"
   ]
  },
  {
   "cell_type": "code",
   "execution_count": 19,
   "metadata": {},
   "outputs": [
    {
     "data": {
      "text/markdown": [
       "\n",
       "# Números primos gerados\n",
       "| variável | número primo |\n",
       "|---|-----|\n",
       "| p | 83891 |\n",
       "| q | 56543 |\n",
       "    "
      ],
      "text/plain": [
       "<IPython.core.display.Markdown object>"
      ]
     },
     "metadata": {},
     "output_type": "display_data"
    }
   ],
   "source": [
    "# Vamos então usar as funções que definimos acima para criar nossos números primos p e q, tais que p != q\n",
    "def gen_prime(n, window):\n",
    "    r = 0\n",
    "    while True:\n",
    "        r = random.randint(2**(n - window), 2**(n + window))\n",
    "        if ((r % 2) == 0):\n",
    "            r -= 1\n",
    "        if (is_prime(r)):\n",
    "            return r\n",
    "\n",
    "def gen_pq(size, window):\n",
    "    a = gen_prime(size, window)\n",
    "    while True:\n",
    "        b = gen_prime(size, window)\n",
    "        if b != a: break\n",
    "    return a, b\n",
    "\n",
    "p, q = gen_pq(16, 1)\n",
    "print_primes(p, q)"
   ]
  },
  {
   "cell_type": "code",
   "execution_count": 8,
   "metadata": {},
   "outputs": [],
   "source": [
    "# Escolhidos os p e q, vamos calcular nossas chaves:\n",
    "# Chave Pública      : e\n",
    "# Chave Compartilhada: n\n",
    "# Chave Privada      : d\n",
    "\n",
    "# Para isso, vamos encontrar primeiro a chave compartilhada n e o totiente phi\n",
    "n = p * q\n",
    "phi = (p - 1) * (q - 1)\n",
    "    \n",
    "# Com isto, vamos procurar uma chave e tal que phi e a chave pública e são primos entre sí (MDC(e, phi) = 1)\n",
    "while True:\n",
    "    e = random.randrange(1, phi)\n",
    "    if (math.gcd(e, phi) == 1):\n",
    "        break"
   ]
  },
  {
   "cell_type": "code",
   "execution_count": 9,
   "metadata": {},
   "outputs": [
    {
     "data": {
      "text/markdown": [
       "\n",
       "# Passos do Algoritmo Extendido de Euclides\n",
       "---------------------------------------------------------------------\n",
       "| Dividendo | Divisor | Quociente | Resto Anterior | Novo Resto | t |\n",
       "|:---------:|:-------:|:---------:|:--------------:|:----------:|:-:|\n",
       "    |18017813700|13411540519|1|18017813700|4606273181|-1|\n",
       "|13411540519|4606273181|2|13411540519|4198994157|3|\n",
       "|4606273181|4198994157|1|4606273181|407279024|-4|\n",
       "|4198994157|407279024|10|4198994157|126203917|43|\n",
       "|407279024|126203917|3|407279024|28667273|-133|\n",
       "|126203917|28667273|4|126203917|11534825|575|\n",
       "|28667273|11534825|2|28667273|5597623|-1283|\n",
       "|11534825|5597623|2|11534825|339579|3141|\n",
       "|5597623|339579|16|5597623|164359|-51539|\n",
       "|339579|164359|2|339579|10861|106219|\n",
       "|164359|10861|15|164359|1444|-1644824|\n",
       "|10861|1444|7|10861|753|11619987|\n",
       "|1444|753|1|1444|691|-13264811|\n",
       "|753|691|1|753|62|24884798|\n",
       "|691|62|11|691|9|-286997589|\n",
       "|62|9|6|62|8|1746870332|\n",
       "|9|8|1|9|1|-2033867921|\n",
       "|8|1|8|8|0|18017813700|\n",
       "\n",
       "-----------------------------------------------------------------\n",
       "    "
      ],
      "text/plain": [
       "<IPython.core.display.Markdown object>"
      ]
     },
     "metadata": {},
     "output_type": "display_data"
    },
    {
     "data": {
      "text/markdown": [
       "\n",
       "# Chaves geradas\n",
       "--------------------------------\n",
       "| Tipo de Chave | Chave Gerada |\n",
       "|---------------|--------------|\n",
       "| Pública       | 13411540519          |\n",
       "| Compartilhada | 18018090593          |\n",
       "| Privada       | 15983945779          |\n",
       "--------------------------------\n",
       "    "
      ],
      "text/plain": [
       "<IPython.core.display.Markdown object>"
      ]
     },
     "metadata": {},
     "output_type": "display_data"
    }
   ],
   "source": [
    "# https://en.wikipedia.org/wiki/Extended_Euclidean_algorithm\n",
    "# Agora, apartir da chave pública e podemos encontrar chave privada d tal que e*d = 1 (mod phi)\n",
    "# Para isto, vamos usar uma versão do algoritmo extendido de euclides especializada para o cálculo\n",
    "# do inverso multiplicativo t tal que at = 1 (mod n) com |t| < n\n",
    "def mult_inv(a, b):\n",
    "    tab = []\n",
    "    \n",
    "    # Seta os valores de t e do resto\n",
    "    t, nt = 0, 1\n",
    "    r, nr = b, a\n",
    "    \n",
    "    # Enquanto o novo resto for diferente de zero\n",
    "    while nr != 0:\n",
    "        tab += [[r, nr, r // nr, r, r - (r//nr) * nr, t - (r//nr) * nt]]\n",
    "        \n",
    "        # O novo dividendo é o divisor anterior, o novo divisor é o resto anterior\n",
    "        quot = r // nr\n",
    "        \n",
    "        # Atualiza o t e o resto\n",
    "        t, nt = nt, t - quot * nt\n",
    "        r, nr = nr, r - quot * nr\n",
    "        \n",
    "    # Queremos resultados positivos, como queremos a relação at = 1 (mod n), e para valores de t negativos t+n < n, então\n",
    "    # podemos fazer a(t+n) = 1 (mod n) para torná-lo positivo, já que at + an = at (mod n)\n",
    "    if t < 0: return t+b, tab\n",
    "    return t, tab\n",
    "\n",
    "\n",
    "d, tab = mult_inv(e, phi)\n",
    "print_euctab(tab)\n",
    "print_keys(e, n, d)"
   ]
  },
  {
   "cell_type": "code",
   "execution_count": 10,
   "metadata": {},
   "outputs": [
    {
     "data": {
      "text/markdown": [
       "\n",
       "# Resultados da Encriptação e Decriptação\n",
       "---------------------------\n",
       "| Encriptado | Decriptado |\n",
       "|------------|------------|\n",
       "    | 8934436674 | O |\n",
       "| 16756075629 | l |\n",
       "| 15246335717 | á |\n",
       "| 6937354227 |   |\n",
       "| 7433955922 | M |\n",
       "| 15598410954 | u |\n",
       "| 1409874110 | n |\n",
       "| 2950756969 | d |\n",
       "| 16917994052 | o |\n",
       "| 6937354227 |   |\n",
       "| 8934436674 | O |\n",
       "| 4030518955 | c |\n",
       "| 15598410954 | u |\n",
       "| 16756075629 | l |\n",
       "| 12716095670 | t |\n",
       "| 16917994052 | o |\n",
       "\n",
       "---------------------------    \n",
       "    "
      ],
      "text/plain": [
       "<IPython.core.display.Markdown object>"
      ]
     },
     "metadata": {},
     "output_type": "display_data"
    }
   ],
   "source": [
    "# Com as chaves acima geradas, é então possível encriptar e decriptar mensagens.\n",
    "message = \"Olá Mundo Oculto\"\n",
    "\n",
    "# c = m^e % n\n",
    "# m = c^d % n\n",
    "enc = [pow(ord(m), e, n) for m in message]\n",
    "dec = [chr(pow(c, d, n)) for c in enc]\n",
    "\n",
    "print_sec(enc, dec)"
   ]
  },
  {
   "cell_type": "code",
   "execution_count": 11,
   "metadata": {},
   "outputs": [
    {
     "name": "stdout",
     "output_type": "stream",
     "text": [
      "len(msg): 12 => padding_pkcs7: [4, 4, 4, 4]\n",
      "len(msg): 13 => padding_pkcs7: [3, 3, 3]\n",
      "len(msg): 14 => padding_pkcs7: [2, 2]\n",
      "len(msg): 15 => padding_pkcs7: [1]\n",
      "len(msg): 16 => padding_pkcs7: [16, 16, 16, 16, 16, 16, 16, 16, 16, 16, 16, 16, 16, 16, 16, 16]\n"
     ]
    }
   ],
   "source": [
    "# https://www.ibm.com/support/knowledgecenter/en/SSLTBW_2.1.0/com.ibm.zos.v2r1.csfb400/pkcspad.htm\n",
    "# Então, vamos usar um metodo de padding PKCS#7 definido pelo RFC 5652, isto envolve adicionar um padding para que todos os\n",
    "# blocos tenham um tamanho bem definido múltiplo de N\n",
    "# Repare também que o padrão define que padding -sempre- será adicionado a mensagem, mesmo que ela já seja um múltiplo de N\n",
    "def padding_pkcs7(N, length):\n",
    "    pad_sz = N - length % N\n",
    "    return [pad_sz for i in range(pad_sz)]\n",
    "\n",
    "for i in range(12, 17):\n",
    "    print('len(msg):', i, '=> padding_pkcs7:', padding_pkcs7(16, i))"
   ]
  },
  {
   "cell_type": "code",
   "execution_count": 12,
   "metadata": {},
   "outputs": [],
   "source": [
    "# Portanto, vamos definir novas maneiras de encriptar/decriptar as mensagens:\n",
    "def encrypt(msg, pk, n):\n",
    "    # Os blocos a serem encriptados são a mensagem original + padding\n",
    "    blocks = [ord(char) for char in msg] + padding(16, len(msg))"
   ]
  },
  {
   "cell_type": "code",
   "execution_count": null,
   "metadata": {},
   "outputs": [],
   "source": []
  },
  {
   "cell_type": "code",
   "execution_count": null,
   "metadata": {},
   "outputs": [],
   "source": []
  }
 ],
 "metadata": {
  "kernelspec": {
   "display_name": "Python 3",
   "language": "python",
   "name": "python3"
  },
  "language_info": {
   "codemirror_mode": {
    "name": "ipython",
    "version": 3
   },
   "file_extension": ".py",
   "mimetype": "text/x-python",
   "name": "python",
   "nbconvert_exporter": "python",
   "pygments_lexer": "ipython3",
   "version": "3.6.5"
  }
 },
 "nbformat": 4,
 "nbformat_minor": 2
}
